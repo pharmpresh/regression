{
 "cells": [
  {
   "cell_type": "code",
   "execution_count": 52,
   "metadata": {},
   "outputs": [],
   "source": [
    "import numpy as np\n",
    "import pandas as pd\n",
    "import matplotlib.pyplot as plt\n",
    "import seaborn as sns\n",
    "import sklearn\n",
    "import quandl, datetime\n",
    "from sklearn import preprocessing, svm\n",
    "from sklearn.model_selection import cross_validate\n",
    "import math\n",
    "from sklearn.linear_model import LinearRegression\n",
    "from matplotlib import style\n",
    "style.use('ggplot')"
   ]
  },
  {
   "cell_type": "code",
   "execution_count": 3,
   "metadata": {},
   "outputs": [],
   "source": []
  },
  {
   "cell_type": "code",
   "execution_count": 57,
   "metadata": {
    "scrolled": true
   },
   "outputs": [
    {
     "name": "stdout",
     "output_type": "stream",
     "text": [
      "[ -4384513.49740717  -9085544.55327792  -4229566.59335078\n",
      "  -3639222.35699623  -4069291.95544032  -3407884.92354353\n",
      "  -2344867.52051827  -2508924.45399607  -2853684.26132746\n",
      "  -2717038.00835232  -3246297.44093186  -4454362.84116712\n",
      "  -4433918.93200292  -3639343.07723824  -4255483.53172172\n",
      "  -3208536.31537965  -3776884.55329053  -2841571.57859468\n",
      "  -3067921.13811463  -5529063.4220962   -5132513.62635839\n",
      "  -3822202.75545679  -3763882.5006224   -4019334.21337953\n",
      "  -4073592.21180522  -5267587.37829904  -5226471.38379381\n",
      "  -3950658.82814258  -5718266.78503014  -4359442.43975567\n",
      "  -5147260.56240103  -4694395.39104426  -8129426.94062732\n",
      " -17328080.91744539 -11095896.55803958] 0.9772476602840353 35\n"
     ]
    },
    {
     "data": {
      "image/png": "[encoded data removed]",
      "text/plain": [
       "<Figure size 432x288 with 1 Axes>"
      ]
     },
     "metadata": {},
     "output_type": "display_data"
    }
   ],
   "source": [
    "df= quandl.get('WIKI/GOOGL', authtoken= 'Pmd9EAFYtktNmGN-pz89')\n",
    "df= df[['Adj. Open', 'Adj. High', 'Adj. Low', 'Adj. Close', 'Adj. Volume']]\n",
    "df['HL_PCT'] = (df['Adj. High'] - df['Adj. Close'])/ df['Adj. Close'] * 100.0\n",
    "df['PCT_change'] = (df['Adj. Close'] - df['Adj. Open'])/ df['Adj. Open'] * 100.0\n",
    "df = df[['Adj. Close', 'HL_PCT', 'PCT_change', 'Adj. Volume']]\n",
    "forecast_col= 'Adj. Close'\n",
    "df.fillna(-99999, inplace=True)\n",
    "forecast_out= int(math.ceil(0.01*len(df)))\n",
    "df['label']= df[forecast_col].shift(-forecast_out)\n",
    "\n",
    "X= np.array(df.drop(['label'], 1))\n",
    "X= X[:-forecast_out]\n",
    "X_lately= X[-forecast_out:]\n",
    "X= preprocessing.scale(X)\n",
    "df.dropna(inplace=True)\n",
    "y= np.array(df['label'])\n",
    "\n",
    "from sklearn.model_selection import train_test_split\n",
    "X_train, X_test, y_train, y_test = train_test_split(X, y, test_size= 0.2)\n",
    "clf = LinearRegression(n_jobs=-1)\n",
    "clf.fit(X_train, y_train)\n",
    "accuracy = clf.score(X_test,y_test)\n",
    "forecast_set= clf.predict(X_lately)\n",
    "print(forecast_set, accuracy, forecast_out)\n",
    "df['forecast']= np.nan\n",
    "last_date= df.iloc[-1].name\n",
    "last_unix= last_date.timestamp()\n",
    "one_day= 86400\n",
    "next_unix = last_unix + one_day\n",
    "\n",
    "for i in forecast_set:\n",
    "    next_date = datetime.datetime.fromtimestamp(next_unix)\n",
    "    next_unix += one_day\n",
    "    df.loc[next_date] = [np.nan for _ in range(len(df.columns)-1)] + [i]\n",
    "df['Adj. Close'].plot()\n",
    "df['forecast'].plot()\n",
    "plt.legend(loc=4)\n",
    "plt.xlabel('Date')\n",
    "plt.ylabel('Price')\n",
    "plt.show()\n",
    "\n",
    "\n"
   ]
  },
  {
   "cell_type": "code",
   "execution_count": null,
   "metadata": {},
   "outputs": [],
   "source": []
  }
 ],
 "metadata": {
  "kernelspec": {
   "display_name": "Python 3",
   "language": "python",
   "name": "python3"
  },
  "language_info": {
   "codemirror_mode": {
    "name": "ipython",
    "version": 3
   },
   "file_extension": ".py",
   "mimetype": "text/x-python",
   "name": "python",
   "nbconvert_exporter": "python",
   "pygments_lexer": "ipython3",
   "version": "3.7.6"
  }
 },
 "nbformat": 4,
 "nbformat_minor": 2
}
